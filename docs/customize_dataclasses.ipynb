{
 "cells": [
  {
   "cell_type": "markdown",
   "id": "0eccba44",
   "metadata": {},
   "source": [
    "# Customising dataclasses"
   ]
  },
  {
   "cell_type": "code",
   "execution_count": 1,
   "id": "9b5c6c9c",
   "metadata": {},
   "outputs": [],
   "source": [
    "from dataclasses import dataclass, field\n",
    "\n",
    "import wadler_lindig as wl\n"
   ]
  },
  {
   "cell_type": "markdown",
   "id": "bbcda7eb",
   "metadata": {},
   "source": [
    "## Hiding fields\n",
    "\n",
    "By default, all fields of a `dataclass` are shown.  \n",
    "`wadler_lindig` respects the `dataclass` mechanism of setting `repr=False` to hide fields if required."
   ]
  },
  {
   "cell_type": "code",
   "execution_count": 2,
   "id": "fa6af33b",
   "metadata": {},
   "outputs": [
    {
     "name": "stdout",
     "output_type": "stream",
     "text": [
      "MyData(shown=2)\n"
     ]
    }
   ],
   "source": [
    "@dataclass\n",
    "class MyData:\n",
    "    hidden: int = field(repr=False)\n",
    "    shown: int\n",
    "\n",
    "\n",
    "wl.pprint(MyData(1, 2))"
   ]
  },
  {
   "cell_type": "markdown",
   "id": "1f2b126f",
   "metadata": {},
   "source": [
    "## Hiding default fields\n",
    "\n",
    "By default `wadler_lindig` hides dataclass fields with a default argument"
   ]
  },
  {
   "cell_type": "code",
   "execution_count": 3,
   "id": "7f61a5cb",
   "metadata": {},
   "outputs": [
    {
     "name": "stdout",
     "output_type": "stream",
     "text": [
      "DefaultArgs(x1=1)\n"
     ]
    }
   ],
   "source": [
    "@dataclass\n",
    "class DefaultArgs:\n",
    "    x1: int\n",
    "    x2: int = field(default=2)\n",
    "\n",
    "\n",
    "# x2 is not printed\n",
    "wl.pprint(DefaultArgs(1))"
   ]
  },
  {
   "cell_type": "markdown",
   "id": "af6898de",
   "metadata": {},
   "source": [
    "You can disable this by setting `hide_defaults=False`"
   ]
  },
  {
   "cell_type": "code",
   "execution_count": 4,
   "id": "f67803e7",
   "metadata": {},
   "outputs": [
    {
     "name": "stdout",
     "output_type": "stream",
     "text": [
      "DefaultArgs(x1=1, x2=2)\n"
     ]
    }
   ],
   "source": [
    "wl.pprint(DefaultArgs(1), hide_defaults=False)"
   ]
  },
  {
   "cell_type": "markdown",
   "id": "604e9e00",
   "metadata": {},
   "source": [
    "## Show module of dataclass\n",
    "\n",
    "By default, the origin of the dataclass is hidden.  \n",
    "If required, you can set `show_dataclass_module=True` to see in which module the dataclass was defined."
   ]
  },
  {
   "cell_type": "code",
   "execution_count": 5,
   "id": "d760a392",
   "metadata": {},
   "outputs": [
    {
     "name": "stdout",
     "output_type": "stream",
     "text": [
      "__main__.DefaultArgs(x1=1)\n"
     ]
    }
   ],
   "source": [
    "wl.pprint(DefaultArgs(1), show_dataclass_module=True)"
   ]
  }
 ],
 "metadata": {
  "kernelspec": {
   "display_name": "wadler-lindig",
   "language": "python",
   "name": "python3"
  },
  "language_info": {
   "codemirror_mode": {
    "name": "ipython",
    "version": 3
   },
   "file_extension": ".py",
   "mimetype": "text/x-python",
   "name": "python",
   "nbconvert_exporter": "python",
   "pygments_lexer": "ipython3",
   "version": "3.12.8"
  }
 },
 "nbformat": 4,
 "nbformat_minor": 5
}
